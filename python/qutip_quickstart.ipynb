{
 "cells": [
  {
   "cell_type": "markdown",
   "metadata": {},
   "source": [
    "### A Quick and dirty introduction to QuTiP basics\n",
    "\n",
    "The python package Quantum Toolbox in Python (QuTiP) provides a host of funcationality that is useful in our study of quantum simulation algorithms.  This notebook provides a quick rundown of the essentials. For more detail, see the [project documentation](http://qutip.org/tutorials.html).\n",
    "\n",
    "QuTiP is available for conda within the conda-forge repository and can be installed with\n",
    "\n",
    "```\n",
    "conda install -c conda-forge qutip \n",
    "```\n",
    "\n",
    "Once installed, you can import it in the usual way."
   ]
  },
  {
   "cell_type": "code",
   "execution_count": 3,
   "metadata": {},
   "outputs": [],
   "source": [
    "    import numpy as np\n",
    "    import qutip as qt\n",
    "    import matplotlib.pyplot as plt"
   ]
  },
  {
   "cell_type": "markdown",
   "metadata": {},
   "source": [
    "#### State Vectors\n",
    "There are two ways we'll look at for creating standard computational basis states. The first is the `basis` function and the second is `ket`.  The key difference is that `basis` creates a state in a $N$ dimensional space where `ket` creates a state in a composite, or multipartite, space.  \n",
    "\n",
    "For example, let's create three qubit basis vectors for the state 3 or 0011."
   ]
  },
  {
   "cell_type": "code",
   "execution_count": 4,
   "metadata": {},
   "outputs": [],
   "source": [
    "st_basis = qt.basis(2**3,3)\n",
    "st_ket = qt.ket('011')"
   ]
  },
  {
   "cell_type": "markdown",
   "metadata": {},
   "source": [
    "The demension of `st_basis` indicates a 8x1 dimensional space. The physical shape of which is, of course 8x1. The type clearly indiaces that `st_basis` is a ket, or column vector."
   ]
  },
  {
   "cell_type": "code",
   "execution_count": 5,
   "metadata": {},
   "outputs": [
    {
     "data": {
      "text/latex": [
       "Quantum object: dims = [[8], [1]], shape = (8, 1), type = ket\\begin{equation*}\\left(\\begin{array}{*{11}c}0.0\\\\0.0\\\\0.0\\\\1.0\\\\0.0\\\\0.0\\\\0.0\\\\0.0\\\\\\end{array}\\right)\\end{equation*}"
      ],
      "text/plain": [
       "Quantum object: dims = [[8], [1]], shape = (8, 1), type = ket\n",
       "Qobj data =\n",
       "[[0.]\n",
       " [0.]\n",
       " [0.]\n",
       " [1.]\n",
       " [0.]\n",
       " [0.]\n",
       " [0.]\n",
       " [0.]]"
      ]
     },
     "execution_count": 5,
     "metadata": {},
     "output_type": "execute_result"
    }
   ],
   "source": [
    "st_basis"
   ]
  },
  {
   "cell_type": "markdown",
   "metadata": {},
   "source": [
    "On the other hand, `st_ket` shows a dimensionality of 2x2x2. This still results in a 8x1 column vector, but the underlying dimensionality is that of a multipartite system of 3 2-level quantum systems, i.e. qubits. "
   ]
  },
  {
   "cell_type": "code",
   "execution_count": 6,
   "metadata": {},
   "outputs": [
    {
     "data": {
      "text/latex": [
       "Quantum object: dims = [[2, 2, 2], [1, 1, 1]], shape = (8, 1), type = ket\\begin{equation*}\\left(\\begin{array}{*{11}c}0.0\\\\0.0\\\\0.0\\\\1.0\\\\0.0\\\\0.0\\\\0.0\\\\0.0\\\\\\end{array}\\right)\\end{equation*}"
      ],
      "text/plain": [
       "Quantum object: dims = [[2, 2, 2], [1, 1, 1]], shape = (8, 1), type = ket\n",
       "Qobj data =\n",
       "[[0.]\n",
       " [0.]\n",
       " [0.]\n",
       " [1.]\n",
       " [0.]\n",
       " [0.]\n",
       " [0.]\n",
       " [0.]]"
      ]
     },
     "execution_count": 6,
     "metadata": {},
     "output_type": "execute_result"
    }
   ],
   "source": [
    "st_ket"
   ]
  },
  {
   "cell_type": "markdown",
   "metadata": {},
   "source": [
    "In both cases we can get the corresponding bra, or row vector, using the ``dag`` methdod which applies the complex conjugate to the quantum object. "
   ]
  },
  {
   "cell_type": "code",
   "execution_count": 7,
   "metadata": {},
   "outputs": [
    {
     "data": {
      "text/latex": [
       "Quantum object: dims = [[1, 1, 1], [2, 2, 2]], shape = (1, 8), type = bra\\begin{equation*}\\left(\\begin{array}{*{11}c}0.0 & 0.0 & 0.0 & 1.0 & 0.0 & 0.0 & 0.0 & 0.0\\\\\\end{array}\\right)\\end{equation*}"
      ],
      "text/plain": [
       "Quantum object: dims = [[1, 1, 1], [2, 2, 2]], shape = (1, 8), type = bra\n",
       "Qobj data =\n",
       "[[0. 0. 0. 1. 0. 0. 0. 0.]]"
      ]
     },
     "execution_count": 7,
     "metadata": {},
     "output_type": "execute_result"
    }
   ],
   "source": [
    "st_bra = st_ket.dag()\n",
    "st_bra"
   ]
  },
  {
   "cell_type": "markdown",
   "metadata": {},
   "source": [
    "When working with other quantum computation libraries we will often find ourselves with a ket vector stored as a basic numpy array.  In this case we can use the underlying `Qobj` constructor to build the QuTiP ket. "
   ]
  },
  {
   "cell_type": "raw",
   "metadata": {},
   "source": [
    "np_state = np.sqrt(1/2)*np.array([0,1,1,0])\n",
    "qt_state = qt.Qobj(np_state)\n",
    "qt_state"
   ]
  },
  {
   "cell_type": "markdown",
   "metadata": {},
   "source": [
    "Finally, when working with other parts of QuTiP we'll find it useful to switch between a $2^n$ qudit and an $n$ qubit, multipartite system perspective.  As we've seen, this information is tracked by `Qobj` `dims` field. This field is mutable. You can change it.  Recall that `qt_state` is a 4 dimensional qudit. If we want to change its dimensionality to that of a two qubit, multipartite state, then we can simply change it's `dims` value."
   ]
  },
  {
   "cell_type": "code",
   "execution_count": 8,
   "metadata": {},
   "outputs": [
    {
     "ename": "NameError",
     "evalue": "name 'qt_state' is not defined",
     "output_type": "error",
     "traceback": [
      "\u001b[0;31m---------------------------------------------------------------------------\u001b[0m",
      "\u001b[0;31mNameError\u001b[0m                                 Traceback (most recent call last)",
      "\u001b[0;32m<ipython-input-8-f0fc22b6061c>\u001b[0m in \u001b[0;36m<module>\u001b[0;34m()\u001b[0m\n\u001b[0;32m----> 1\u001b[0;31m \u001b[0mqt_state\u001b[0m\u001b[0;34m.\u001b[0m\u001b[0mdims\u001b[0m \u001b[0;34m=\u001b[0m \u001b[0;34m[\u001b[0m\u001b[0;34m[\u001b[0m\u001b[0;36m2\u001b[0m\u001b[0;34m,\u001b[0m\u001b[0;36m2\u001b[0m\u001b[0;34m]\u001b[0m\u001b[0;34m,\u001b[0m\u001b[0;34m[\u001b[0m\u001b[0;36m1\u001b[0m\u001b[0;34m,\u001b[0m\u001b[0;36m1\u001b[0m\u001b[0;34m]\u001b[0m\u001b[0;34m]\u001b[0m\u001b[0;34m\u001b[0m\u001b[0m\n\u001b[0m\u001b[1;32m      2\u001b[0m \u001b[0mqt_state\u001b[0m\u001b[0;34m\u001b[0m\u001b[0m\n",
      "\u001b[0;31mNameError\u001b[0m: name 'qt_state' is not defined"
     ]
    }
   ],
   "source": [
    "qt_state.dims = [[2,2],[1,1]]\n",
    "qt_state"
   ]
  },
  {
   "cell_type": "markdown",
   "metadata": {},
   "source": [
    "#### Visualization of Quantum States\n",
    "\n",
    "To better understand a quantum state it is often useful to visual that state in some way. The fact that probability amplitudes are often complex valued poses some challenges to visualization. First let us define the state `ent` which is four qubit entangled state.\n"
   ]
  },
  {
   "cell_type": "code",
   "execution_count": 9,
   "metadata": {},
   "outputs": [],
   "source": [
    "ent = 1/2 * (qt.basis(16,8) + qt.basis(16,4)-qt.basis(16,2)-qt.basis(16,1))"
   ]
  },
  {
   "cell_type": "markdown",
   "metadata": {},
   "source": [
    "One strategy for visualizing this state is to simply look at the probability distribution with respect to a standard measurement. We lose all information about relative phases this way but we get a clear sense of what to exepect from a measurement. In QuTiP we can achieve this through `plot_fock_distribution`. The documetation for `plot_fock_distribution` demonstrates how to do a series of distributions in a single plot as well. "
   ]
  },
  {
   "cell_type": "code",
   "execution_count": 10,
   "metadata": {},
   "outputs": [
    {
     "data": {
      "image/png": "[encoded data removed]",
      "text/plain": [
       "<Figure size 432x288 with 1 Axes>"
      ]
     },
     "metadata": {
      "needs_background": "light"
     },
     "output_type": "display_data"
    }
   ],
   "source": [
    "fig, axes = plt.subplots(1,1)\n",
    "qt.visualization.plot_fock_distribution(ent,fig=fig,ax=axes,title=\"Ent Distribution\")\n",
    "fig.tight_layout()\n",
    "plt.show()\n"
   ]
  },
  {
   "cell_type": "markdown",
   "metadata": {},
   "source": [
    "Quantum states can also be represented by a density matrix where an $n$ qubit state has a $2^n \\times 2^n$ density matrix. The diagonal elements of the density matrix are the probabilities assocaited with measuring that state. The off diagonal elements capture information about the relative phase of each state. What's important here is that the density matrix captures everything we could want to know about a state, not just measurement probabilities.\n",
    "\n",
    "Density matricies are easily visualized by a hinton diagram via QuTiPs `hinton` procedure. In the hinton diagram we color a $2^n \\times 2^n$ grid according to the values in the density matrix where the color scale indicates both the magnitude and sign of the enteries. "
   ]
  },
  {
   "cell_type": "code",
   "execution_count": 28,
   "metadata": {},
   "outputs": [
    {
     "data": {
      "image/png": "[encoded data removed]",
      "text/plain": [
       "<Figure size 576x432 with 2 Axes>"
      ]
     },
     "metadata": {
      "needs_background": "light"
     },
     "output_type": "display_data"
    }
   ],
   "source": [
    "fig, ax = qt.visualization.hinton(qt.ket2dm(ent))\n",
    "plt.show()"
   ]
  },
  {
   "cell_type": "markdown",
   "metadata": {},
   "source": [
    "A downside to the hinton diagram is that it must grow along with the size of the space.  Qubism plots solve this by effectiely partitioning the grid into sucessively smaller squares as the space grows. Another potential advantage of Qubism plots is that they visualize a state vector as opposed to the state desity matrix. Once again, color scales is used to represent magnitude and phase. \n",
    "\n",
    "In order to do a qubism plot, we must provide `plot_qubism` with a multipartite state. This is likely to mean modifying the dimension of an existing qudit state to reflect the underlying composite qubit state. "
   ]
  },
  {
   "cell_type": "code",
   "execution_count": 24,
   "metadata": {},
   "outputs": [
    {
     "data": {
      "image/png": "[encoded data removed]",
      "text/plain": [
       "<Figure size 288x288 with 1 Axes>"
      ]
     },
     "metadata": {
      "needs_background": "light"
     },
     "output_type": "display_data"
    }
   ],
   "source": [
    "ent_kets = qt.Qobj(ent)\n",
    "ent_kets.dims=[[2,2,2,2],[1,1,1,1]]\n",
    "fig,ax = qt.visualization.plot_qubism(ent_kets,legend_iteration=2,figsize=(4,4))\n",
    "plt.show()"
   ]
  },
  {
   "cell_type": "markdown",
   "metadata": {},
   "source": [
    "#### Measurement Statistics\n",
    "\n",
    "Finally, we might just want some basic statistical information about the results of measuring a state in the standard basis. In particular, we want the expected value, variance, and standard deviation (a.k.a. uncertainty). In practice, a standard measurement is likely to be done on a bit by bit basis and relative to some observable with eigenvalues of $\\pm1$. we might then translate that to binary, with 1 going to 0 and -1 going to 1, and interpret the result of an $n$ qubit measurement as an $n$ bit, unsigned binary integer. For example, when measuring a 4 qubit system we might end up with $(1,-1,-1,1)$ and interpret that as $0110$ or $5$. Under this regieme we would expect the result of measuring $n$ qubits to be some value from 0 to $2^n$. The expected value, variance, and uncertainty would then follow suit.  \n",
    "\n",
    "With QuTiP we can skip all of the bitwise measurements and conversion to binary and simply compute the statistics relative to `num(2**n)`. The functions `expect(o,s)` and `variance(o,s)` compute the respective statistics for a given observable `o` and state `s`. The uncertainy is simply the sqrare root of the variance. "
   ]
  },
  {
   "cell_type": "code",
   "execution_count": 11,
   "metadata": {},
   "outputs": [
    {
     "name": "stdout",
     "output_type": "stream",
     "text": [
      "Expectation: 3.7500\n",
      "Variance: 7.1875\n",
      "Uncertainty: 2.6810\n"
     ]
    }
   ],
   "source": [
    "\n",
    "print(\"Expectation: %.04f\" % qt.expect(qt.num(16),ent))\n",
    "print(\"Variance: %.4f\" % qt.variance(qt.num(16),ent))\n",
    "print(\"Uncertainty: %.4f\" % np.sqrt(qt.variance(qt.num(16),ent)))\n"
   ]
  }
 ],
 "metadata": {
  "kernelspec": {
   "display_name": "Python [default]",
   "language": "python",
   "name": "python3"
  },
  "language_info": {
   "codemirror_mode": {
    "name": "ipython",
    "version": 3
   },
   "file_extension": ".py",
   "mimetype": "text/x-python",
   "name": "python",
   "nbconvert_exporter": "python",
   "pygments_lexer": "ipython3",
   "version": "3.5.6"
  }
 },
 "nbformat": 4,
 "nbformat_minor": 2
}
