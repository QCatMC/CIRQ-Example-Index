{
 "cells": [
  {
   "cell_type": "markdown",
   "metadata": {},
   "source": [
    "## From Molecular Hamiltonian to Qubit Hamiltonian \n",
    "\n",
    "In these notes we'll look at how to use openfermion and openfermionsci4 to find the hamiltonian for a molecule, convert that hamiltonian into qubit operations, and, if possible, compute some properties of that hamiltonian. Be sure you have numpy, openfermion, and openfermionpsi4 installed.  Installation instructions can be found at the [OpenFermion Site](https://github.com/quantumlib/OpenFermion).  \n",
    "\n",
    "First things first, import the libraries. "
   ]
  },
  {
   "cell_type": "code",
   "execution_count": 4,
   "metadata": {},
   "outputs": [],
   "source": [
    "import numpy as np\n",
    "import openfermion as of \n",
    "from openfermionpsi4 import run_psi4"
   ]
  },
  {
   "cell_type": "markdown",
   "metadata": {},
   "source": [
    "With that done we can specify the properties of the molecule as an openfermion `MolecularData` object and use the psi4 plugin to calculate the one and two electron intregrals along with other useful properties of the molecule. This is fairly well documented in both the OpenFermion paper and their tutorials so I won't belabor it here. "
   ]
  },
  {
   "cell_type": "code",
   "execution_count": 5,
   "metadata": {},
   "outputs": [],
   "source": [
    "R = 0.7414\n",
    "multiplicity = 1\n",
    "charge = 0 \n",
    "basis = 'sto-3g'\n",
    "molecule = of.MolecularData([('H', (0., 0., 0.)),\n",
    "                             ('H', (0., 0., R))],\n",
    "                            basis,multiplicity, charge)\n",
    "\n",
    "# Compute interaction terms\n",
    "molecule = run_psi4(molecule,\n",
    "                    run_mp2=True,\n",
    "                    run_cisd=True,\n",
    "                    run_ccsd=True,\n",
    "                    run_fci=True)"
   ]
  },
  {
   "cell_type": "markdown",
   "metadata": {},
   "source": [
    "Now that psi4 has done its thing we can get the hamiltonian as an openfermion `InteractionOperator`. Their notation for the ladder operators is discussed in the `FermionOperator` section of the paper. "
   ]
  },
  {
   "cell_type": "code",
   "execution_count": 6,
   "metadata": {},
   "outputs": [
    {
     "name": "stdout",
     "output_type": "stream",
     "text": [
      "() 0.7137539905449153\n",
      "((0, 1), (0, 0)) -1.2524635715927759\n",
      "((1, 1), (1, 0)) -1.2524635715927759\n",
      "((2, 1), (2, 0)) -0.47594871726831145\n",
      "((3, 1), (3, 0)) -0.47594871726831145\n",
      "((0, 1), (0, 1), (0, 0), (0, 0)) 0.3372443828669513\n",
      "((0, 1), (0, 1), (2, 0), (2, 0)) 0.09064440419713088\n",
      "((0, 1), (1, 1), (1, 0), (0, 0)) 0.3372443828669513\n",
      "((0, 1), (1, 1), (3, 0), (2, 0)) 0.09064440419713088\n",
      "((0, 1), (2, 1), (0, 0), (2, 0)) 0.09064440419713078\n",
      "((0, 1), (2, 1), (2, 0), (0, 0)) 0.33173404792821903\n",
      "((0, 1), (3, 1), (1, 0), (2, 0)) 0.09064440419713078\n",
      "((0, 1), (3, 1), (3, 0), (0, 0)) 0.33173404792821903\n",
      "((1, 1), (0, 1), (0, 0), (1, 0)) 0.3372443828669513\n",
      "((1, 1), (0, 1), (2, 0), (3, 0)) 0.09064440419713088\n",
      "((1, 1), (1, 1), (1, 0), (1, 0)) 0.3372443828669513\n",
      "((1, 1), (1, 1), (3, 0), (3, 0)) 0.09064440419713088\n",
      "((1, 1), (2, 1), (0, 0), (3, 0)) 0.09064440419713078\n",
      "((1, 1), (2, 1), (2, 0), (1, 0)) 0.33173404792821903\n",
      "((1, 1), (3, 1), (1, 0), (3, 0)) 0.09064440419713078\n",
      "((1, 1), (3, 1), (3, 0), (1, 0)) 0.33173404792821903\n",
      "((2, 1), (0, 1), (0, 0), (2, 0)) 0.33173404792821903\n",
      "((2, 1), (0, 1), (2, 0), (0, 0)) 0.09064440419713078\n",
      "((2, 1), (1, 1), (1, 0), (2, 0)) 0.33173404792821903\n",
      "((2, 1), (1, 1), (3, 0), (0, 0)) 0.09064440419713078\n",
      "((2, 1), (2, 1), (0, 0), (0, 0)) 0.09064440419713082\n",
      "((2, 1), (2, 1), (2, 0), (2, 0)) 0.34869688341114286\n",
      "((2, 1), (3, 1), (1, 0), (0, 0)) 0.09064440419713082\n",
      "((2, 1), (3, 1), (3, 0), (2, 0)) 0.34869688341114286\n",
      "((3, 1), (0, 1), (0, 0), (3, 0)) 0.33173404792821903\n",
      "((3, 1), (0, 1), (2, 0), (1, 0)) 0.09064440419713078\n",
      "((3, 1), (1, 1), (1, 0), (3, 0)) 0.33173404792821903\n",
      "((3, 1), (1, 1), (3, 0), (1, 0)) 0.09064440419713078\n",
      "((3, 1), (2, 1), (0, 0), (1, 0)) 0.09064440419713082\n",
      "((3, 1), (2, 1), (2, 0), (3, 0)) 0.34869688341114286\n",
      "((3, 1), (3, 1), (1, 0), (1, 0)) 0.09064440419713082\n",
      "((3, 1), (3, 1), (3, 0), (3, 0)) 0.34869688341114286\n",
      "\n"
     ]
    }
   ],
   "source": [
    "hamiltonian = molecule.get_molecular_hamiltonian()\n",
    "print(hamiltonian)"
   ]
  },
  {
   "cell_type": "markdown",
   "metadata": {},
   "source": [
    "We can now use `transforms.brvyi_kitaev` to convert the Trasform to qubit operations using the Bravyi-Kitaev transformation. The result is an openfermion `QubitOperator`."
   ]
  },
  {
   "cell_type": "code",
   "execution_count": 7,
   "metadata": {},
   "outputs": [
    {
     "name": "stdout",
     "output_type": "stream",
     "text": [
      "(-0.0988639735178176+0j) [] +\n",
      "(0.04532220209856541+0j) [X0 Z1 X2] +\n",
      "(0.04532220209856541+0j) [X0 Z1 X2 Z3] +\n",
      "(0.04532220209856541+0j) [Y0 Z1 Y2] +\n",
      "(0.04532220209856541+0j) [Y0 Z1 Y2 Z3] +\n",
      "(0.17119774853325856+0j) [Z0] +\n",
      "(0.17119774853325875+0j) [Z0 Z1] +\n",
      "(0.16586702396410952+0j) [Z0 Z1 Z2] +\n",
      "(0.16586702396410952+0j) [Z0 Z1 Z2 Z3] +\n",
      "(0.12054482186554412+0j) [Z0 Z2] +\n",
      "(0.12054482186554412+0j) [Z0 Z2 Z3] +\n",
      "(0.16862219143347565+0j) [Z1] +\n",
      "(-0.2227859289010693+0j) [Z1 Z2 Z3] +\n",
      "(0.17434844170557143+0j) [Z1 Z3] +\n",
      "(-0.22278592890106935+0j) [Z2]\n"
     ]
    }
   ],
   "source": [
    "bk = of.transforms.bravyi_kitaev(of.transforms.get_fermion_operator(hamiltonian))\n",
    "print(bk)"
   ]
  },
  {
   "cell_type": "markdown",
   "metadata": {},
   "source": [
    "For simple molecules like Hydrogen we can do some computations directly.  Openfermion has utility functions for computing the expectation and variance. To use them we need a state vector as a numpy array and the scipy LinearOperator form of a `QubitOperator`. The later we can get using `generate_linear_qubit_operator`."
   ]
  },
  {
   "cell_type": "code",
   "execution_count": 8,
   "metadata": {},
   "outputs": [
    {
     "name": "stdout",
     "output_type": "stream",
     "text": [
      "Expectation w.r.t phi: (-0.17440103348480254+0j)\n",
      "Variance w.r.t. phi: (0.501929193526253+0j)\n"
     ]
    }
   ],
   "source": [
    "phi = 1/2*(np.eye(16)[0]+np.eye(16)[1]+np.eye(16)[4]+np.eye(16)[8])\n",
    "bk_op = of.utils.generate_linear_qubit_operator(bk)\n",
    "print(\"Expectation w.r.t phi: \" + str(of.utils.expectation(bk_op,phi)))\n",
    "print(\"Variance w.r.t. phi: \" + str(of.utils.variance(bk_op,phi)))"
   ]
  },
  {
   "cell_type": "markdown",
   "metadata": {},
   "source": [
    "But wait! There's more!  We can even get the eigenspectrum. Recall the the goal of quantum simulation is to compute the minimum eigenvalue for a given hamiltonian. Thus, we should not expect this to scale well. If it did we wouldn't really be studying the VQE algorithm.  "
   ]
  },
  {
   "cell_type": "code",
   "execution_count": 9,
   "metadata": {},
   "outputs": [
    {
     "name": "stdout",
     "output_type": "stream",
     "text": [
      "[-1.13727017 -0.53870958 -0.53870958 -0.53247901 -0.53247901 -0.53247901\n",
      " -0.44698572 -0.44698572 -0.16990139  0.23780527  0.23780527  0.35243413\n",
      "  0.35243413  0.47983611  0.71375399  0.92010671]\n",
      "Ground State Energy: -1.137270174625328\n"
     ]
    }
   ],
   "source": [
    "eig_spec =  of.utils.eigenspectrum(bk)\n",
    "print(eig_spec)\n",
    "print(\"Ground State Energy: \" + str(eig_spec.min()))\n"
   ]
  }
 ],
 "metadata": {
  "kernelspec": {
   "display_name": "Python [conda env:cirq-py3-app]",
   "language": "python",
   "name": "conda-env-cirq-py3-app-py"
  },
  "language_info": {
   "codemirror_mode": {
    "name": "ipython",
    "version": 3
   },
   "file_extension": ".py",
   "mimetype": "text/x-python",
   "name": "python",
   "nbconvert_exporter": "python",
   "pygments_lexer": "ipython3",
   "version": "3.6.8"
  }
 },
 "nbformat": 4,
 "nbformat_minor": 2
}
